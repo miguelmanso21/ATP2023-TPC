{
 "cells": [
  {
   "cell_type": "code",
   "execution_count": null,
   "metadata": {},
   "outputs": [],
   "source": [
    "#1a\n",
    "\n",
    "lista1 = [1, 2, 3, 4, 5]\n",
    "lista2 = [4, 5, 6, 7, 8]  \n",
    "lista_ncomuns = [k for k in lista1 if k not in lista2] + [k for k in lista2 if k not in lista1]\n",
    "print (lista_ncomuns)\n"
   ]
  },
  {
   "cell_type": "code",
   "execution_count": null,
   "metadata": {},
   "outputs": [],
   "source": [
    "#1b\n",
    "\n",
    "texto = \"\"\"Vivia há já não poucos anos algures num concelho do Ribatejo \n",
    "    um pequeno lavrador e negociante de gado chamado Manuel Peres Vigário\"\"\"\n",
    "palavras = texto.split(\" \")\n",
    "lista = [palavras for palavras in palavras if len (palavras) > 3]\n",
    "\n",
    "print (lista)"
   ]
  },
  {
   "cell_type": "code",
   "execution_count": null,
   "metadata": {},
   "outputs": [],
   "source": [
    "#1c\n",
    "\n",
    "lista = ['anaconda', 'burro', 'cavalo', 'macaco']\n",
    "listaRes = [(lista.index(valor) + 1, valor) for valor in lista] \n",
    "print (listaRes)"
   ]
  },
  {
   "cell_type": "code",
   "execution_count": null,
   "metadata": {},
   "outputs": [],
   "source": [
    "#2a\n",
    "\n",
    "def strCount(s, subs):\n",
    "    contagem = 0\n",
    "    i = 0\n",
    "    for i in range (len (s)- len(subs) + 1):\n",
    "        if s[i: i + len (subs)] == subs:\n",
    "            contagem = contagem + 1\n",
    "    return contagem"
   ]
  },
  {
   "cell_type": "code",
   "execution_count": null,
   "metadata": {},
   "outputs": [],
   "source": [
    "#2b\n",
    "\n",
    "def produtoM3(lista):\n",
    "    res = 0\n",
    "    lista.sort()\n",
    "    res = lista[0]*lista[1]*lista[2]\n",
    "    return res"
   ]
  },
  {
   "cell_type": "code",
   "execution_count": null,
   "metadata": {},
   "outputs": [],
   "source": [
    "#2c\n",
    "\n",
    "def reduxInt(n):\n",
    "    while n > 10:\n",
    "        soma = 0\n",
    "        while n > 0:\n",
    "            dig = n % 10\n",
    "            soma = soma + dig\n",
    "            n = n - dig\n",
    "            n = n / 10\n",
    "        n = soma\n",
    "    return int (soma)"
   ]
  },
  {
   "cell_type": "code",
   "execution_count": null,
   "metadata": {},
   "outputs": [],
   "source": [
    "#2d\n",
    "\n",
    "def myIndexOf(s1, s2):\n",
    "    if s2 in s1:\n",
    "        print(s1.index(s2))\n",
    "    if s2 not in s1:\n",
    "        print (-1)\n",
    "    return "
   ]
  }
 ],
 "metadata": {
  "language_info": {
   "name": "python"
  }
 },
 "nbformat": 4,
 "nbformat_minor": 2
}
