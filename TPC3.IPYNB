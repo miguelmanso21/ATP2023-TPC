{
 "cells": [
  {
   "cell_type": "code",
   "execution_count": 8,
   "metadata": {},
   "outputs": [
    {
     "name": "stdout",
     "output_type": "stream",
     "text": [
      "93\n"
     ]
    },
    {
     "name": "stdout",
     "output_type": "stream",
     "text": [
      "65\n",
      "58\n",
      "65\n",
      "4\n",
      "0\n",
      "Número de tentativas... 6\n"
     ]
    }
   ],
   "source": [
    "# Resolução TPC 3 v2\n",
    "\n",
    "import random \n",
    "x = random.randint(0,100)\n",
    "print (x)\n",
    "\n",
    "n = int (input(\"1 para maior, 2 para menor e 0 para correto\"))\n",
    "tentativas = 1\n",
    "\n",
    "alto = 100\n",
    "baixo = 0\n",
    "if tentativas > 1:\n",
    "    if n == 1:\n",
    "        baixo = x\n",
    "        if alto < x:\n",
    "            x = alto\n",
    "    if n == 2:\n",
    "        alto = x\n",
    "        if baixo < x:\n",
    "            x = baixo\n",
    "if n == 0:\n",
    "    print (\"Número de tentativas...\",tentativas)\n",
    "\n",
    "while n != 0 :\n",
    "    if n == 1 :\n",
    "        tentativas = tentativas + 1\n",
    "        x = random.randrange (x, alto)\n",
    "        print (x)\n",
    "        n = int (input(\"1 para maior, 2 para menor e 0 para correto\"))\n",
    "        if n == 0:\n",
    "            print (\"Número de tentativas...\",tentativas)\n",
    "    if n == 2 :\n",
    "        tentativas = tentativas + 1\n",
    "        x = random.randrange(baixo,x)\n",
    "        print (x)\n",
    "        n = int (input(\"1 para maior, 2 para menor e 0 para correto\"))\n",
    "        if n == 0:\n",
    "            print (\"Número de tentativas...\",tentativas)\n",
    "\n",
    "# Devido ao facto de não ter conseguido resolver o problema na totalidade, não posso concluir o número de tentaivas necessárias para adivinhar o número de 0 a 100.\n",
    "# Devido à razão apresentada em cima não consigo igualmente concluir o número de tentativas necessárias para adivimhar o numero de 0 a 1000.\n"
   ]
  }
 ],
 "metadata": {
  "kernelspec": {
   "display_name": "Python 3",
   "language": "python",
   "name": "python3"
  },
  "language_info": {
   "codemirror_mode": {
    "name": "ipython",
    "version": 3
   },
   "file_extension": ".py",
   "mimetype": "text/x-python",
   "name": "python",
   "nbconvert_exporter": "python",
   "pygments_lexer": "ipython3",
   "version": "3.11.5"
  },
  "orig_nbformat": 4
 },
 "nbformat": 4,
 "nbformat_minor": 2
}
